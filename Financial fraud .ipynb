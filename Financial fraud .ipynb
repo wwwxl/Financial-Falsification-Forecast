{
 "cells": [
  {
   "cell_type": "markdown",
   "id": "5ce8a13a",
   "metadata": {},
   "source": [
    "导入模块"
   ]
  },
  {
   "cell_type": "code",
   "execution_count": 1,
   "id": "74e44ed5",
   "metadata": {},
   "outputs": [],
   "source": [
    "import pandas as pd\n",
    "import numpy as np\n",
    "from sklearn.model_selection import train_test_split\n",
    "from sklearn.preprocessing import StandardScaler\n",
    "from sklearn.linear_model import LogisticRegression\n",
    "from imblearn.over_sampling import SMOTE\n",
    "import matplotlib.pyplot as plt \n",
    "from sklearn.metrics import auc,roc_curve,roc_auc_score\n",
    "from sklearn.model_selection import learning_curve\n",
    "from sklearn.model_selection import ShuffleSplit\n",
    "from sklearn.feature_selection import SelectFromModel\n",
    "from sklearn.model_selection import GridSearchCV\n",
    "from sklearn.ensemble import RandomForestClassifier\n",
    "\n",
    "pd.options.display.max_columns = None"
   ]
  },
  {
   "cell_type": "markdown",
   "id": "3cf42965",
   "metadata": {},
   "source": [
    "# 原始数据处理"
   ]
  },
  {
   "cell_type": "code",
   "execution_count": 2,
   "id": "c7534f47",
   "metadata": {},
   "outputs": [],
   "source": [
    "# 从附件3中读取行的中文名称\n",
    "retitle = pd.read_excel('Data/附件3.xlsx')\n",
    "retitle.drop(columns='单位',inplace=True)\n",
    "retitle.head()\n",
    "temprename = retitle.to_dict(orient ='records' )\n",
    "rename_dic = {}\n",
    "for i in temprename:\n",
    "    rename_dic[i['字段名']] = i['含义']\n",
    "    \n",
    "# 重命名附件2中的所有行名为中文名\n",
    "data = pd.read_csv('Data/附件2.csv')\n",
    "data.rename(columns=rename_dic,inplace=True)"
   ]
  },
  {
   "cell_type": "markdown",
   "id": "9474e559",
   "metadata": {},
   "source": [
    "去除缺失值超过50%，方差为0的列"
   ]
  },
  {
   "cell_type": "code",
   "execution_count": 3,
   "id": "2f92188a",
   "metadata": {},
   "outputs": [],
   "source": [
    "# 手动计算缺失值\n",
    "nullrate=pd.DataFrame()\n",
    "nullrate['isnull_number'] = data.isnull().sum()\n",
    "nullrate['all'] = data.shape[0]\n",
    "nullrate['rate'] = nullrate['isnull_number'] / nullrate['all']\n",
    "\n",
    "# 除去缺失值超过50%的特征\n",
    "data.drop(columns=nullrate[nullrate.rate>0.50].index,inplace=True)\n",
    "\n",
    "# 除去标准差为0的特征\n",
    "des = data.describe().T\n",
    "data.drop(columns=des[des['std']==0].index,inplace=True)\n",
    "\n",
    "data.drop(columns=['会计准则','货币代码','报告类型'],inplace=True)"
   ]
  },
  {
   "cell_type": "markdown",
   "id": "6ad9eae0",
   "metadata": {},
   "source": [
    "取出数据"
   ]
  },
  {
   "cell_type": "code",
   "execution_count": 4,
   "id": "b094ec37",
   "metadata": {},
   "outputs": [],
   "source": [
    "X = data[data.是否在当年造假.isnull()==False].drop(columns='是否在当年造假')\n",
    "Y = data.是否在当年造假.dropna()\n",
    "# 需要预测的数据\n",
    "pre_X = data[data.是否在当年造假.isnull()==True].drop(columns='是否在当年造假')"
   ]
  },
  {
   "cell_type": "markdown",
   "id": "62acf200",
   "metadata": {},
   "source": [
    "导出数据备用"
   ]
  },
  {
   "cell_type": "code",
   "execution_count": 5,
   "id": "5db1ad64",
   "metadata": {},
   "outputs": [],
   "source": [
    "X.to_csv('Data/X.csv',index=False,encoding='utf_8_sig')\n",
    "pre_X.to_csv('Data/pre_X.csv',index=False,encoding='utf_8_sig')\n",
    "Y.to_csv('Data/Y.csv',index=False,encoding='utf_8_sig')"
   ]
  },
  {
   "cell_type": "markdown",
   "id": "64b8cf9b",
   "metadata": {},
   "source": [
    "# 标准化处理对于学习结果的影响"
   ]
  },
  {
   "cell_type": "code",
   "execution_count": 7,
   "id": "afdeb1c3",
   "metadata": {},
   "outputs": [],
   "source": [
    "X = pd.read_csv('Data/X.csv')\n",
    "pre_X = pd.read_csv('Data/pre_X.csv')\n",
    "Y = pd.read_csv('Data/Y.csv')"
   ]
  },
  {
   "cell_type": "markdown",
   "id": "83978ddd",
   "metadata": {},
   "source": [
    "用0填充缺失值  \n",
    "对于财务报表数据而言，有些缺失值并非缺失值，该企业不涉及到对应的科目的，为空，因此，采用0来对缺失值进行填充。"
   ]
  },
  {
   "cell_type": "code",
   "execution_count": 8,
   "id": "c45b4c65",
   "metadata": {},
   "outputs": [],
   "source": [
    "X.fillna(0,inplace=True)"
   ]
  },
  {
   "cell_type": "markdown",
   "id": "77f80ab4",
   "metadata": {},
   "source": [
    "测试、训练集划分"
   ]
  },
  {
   "cell_type": "code",
   "execution_count": 9,
   "id": "364b828e",
   "metadata": {},
   "outputs": [],
   "source": [
    "x_train,x_test,y_train,y_test = train_test_split(X,Y,random_state=123)"
   ]
  },
  {
   "cell_type": "code",
   "execution_count": 10,
   "id": "885bf26a",
   "metadata": {},
   "outputs": [
    {
     "data": {
      "text/plain": [
       "是否在当年造假\n",
       "0.0        13404\n",
       "1.0          141\n",
       "dtype: int64"
      ]
     },
     "execution_count": 10,
     "metadata": {},
     "output_type": "execute_result"
    }
   ],
   "source": [
    "y_train.value_counts()"
   ]
  },
  {
   "cell_type": "markdown",
   "id": "8b517ee0",
   "metadata": {},
   "source": [
    "可见，预测样本存在明显的偏斜，造假的样本占比非常少。"
   ]
  },
  {
   "cell_type": "markdown",
   "id": "b7fb335f",
   "metadata": {},
   "source": [
    "## 不进行标准化默认参数逻辑回归"
   ]
  },
  {
   "cell_type": "markdown",
   "id": "c325aa3f",
   "metadata": {},
   "source": [
    "默认参数逻辑回归"
   ]
  },
  {
   "cell_type": "code",
   "execution_count": 12,
   "id": "82d2f76e",
   "metadata": {},
   "outputs": [
    {
     "name": "stderr",
     "output_type": "stream",
     "text": [
      "D:\\python37\\Lib\\site-packages\\sklearn\\linear_model\\_logistic.py:818: ConvergenceWarning: lbfgs failed to converge (status=1):\n",
      "STOP: TOTAL NO. of ITERATIONS REACHED LIMIT.\n",
      "\n",
      "Increase the number of iterations (max_iter) or scale the data as shown in:\n",
      "    https://scikit-learn.org/stable/modules/preprocessing.html\n",
      "Please also refer to the documentation for alternative solver options:\n",
      "    https://scikit-learn.org/stable/modules/linear_model.html#logistic-regression\n",
      "  extra_warning_msg=_LOGISTIC_SOLVER_CONVERGENCE_MSG,\n"
     ]
    },
    {
     "data": {
      "image/png": "[encoded data removed]",
      "text/plain": [
       "<Figure size 432x288 with 1 Axes>"
      ]
     },
     "metadata": {
      "needs_background": "light"
     },
     "output_type": "display_data"
    },
    {
     "name": "stdout",
     "output_type": "stream",
     "text": [
      "auc: 0.5519465640109072\n"
     ]
    }
   ],
   "source": [
    "lg = LogisticRegression(C=100000000000000000,)\n",
    "lg.fit(x_train,y_train.values.ravel())\n",
    "fpr, tpr, thres = roc_curve(y_test, lg.predict_proba(x_test)[:,1])\n",
    "\n",
    "plt.plot(fpr, tpr)\n",
    "plt.show()\n",
    "\n",
    "score = roc_auc_score(y_test, lg.predict_proba(x_test)[:,1])\n",
    "print('auc:',score)"
   ]
  },
  {
   "cell_type": "markdown",
   "id": "97904d7f",
   "metadata": {},
   "source": [
    "## 标准化后逻辑回归"
   ]
  },
  {
   "cell_type": "code",
   "execution_count": 14,
   "id": "e6849937",
   "metadata": {},
   "outputs": [
    {
     "data": {
      "text/plain": [
       "是否在当年造假\n",
       "0.0        13404\n",
       "1.0          141\n",
       "dtype: int64"
      ]
     },
     "execution_count": 14,
     "metadata": {},
     "output_type": "execute_result"
    }
   ],
   "source": [
    "X = pd.read_csv('Data/X.csv')\n",
    "pre_X = pd.read_csv('Data/pre_X.csv')\n",
    "Y = pd.read_csv('Data/Y.csv')\n",
    "X.fillna(0,inplace=True)\n",
    "x_train,x_test,y_train,y_test = train_test_split(X,Y,random_state=123)\n",
    "y_train.value_counts()"
   ]
  },
  {
   "cell_type": "code",
   "execution_count": 15,
   "id": "e4fef624",
   "metadata": {},
   "outputs": [],
   "source": [
    "# 数据标准化\n",
    "s = StandardScaler()\n",
    "s.fit(x_train)\n",
    "x_train_s = s.transform(x_train)\n",
    "x_test_s = s.transform(x_test)"
   ]
  },
  {
   "cell_type": "code",
   "execution_count": 16,
   "id": "0b159418",
   "metadata": {},
   "outputs": [],
   "source": [
    "pre_X_s = s.transform(pre_X)\n",
    "pre_X_s= pd.DataFrame(columns=pre_X.columns,data =pre_X_s)"
   ]
  },
  {
   "cell_type": "code",
   "execution_count": 17,
   "id": "799b6bef",
   "metadata": {},
   "outputs": [],
   "source": [
    "x_train_s = pd.DataFrame(columns=x_train.columns,data = x_train_s)\n",
    "x_test_s= pd.DataFrame(columns=x_test.columns,data = x_test_s)"
   ]
  },
  {
   "cell_type": "code",
   "execution_count": 18,
   "id": "e2d03e7e",
   "metadata": {},
   "outputs": [
    {
     "data": {
      "image/png": "[encoded data removed]",
      "text/plain": [
       "<Figure size 432x288 with 1 Axes>"
      ]
     },
     "metadata": {
      "needs_background": "light"
     },
     "output_type": "display_data"
    },
    {
     "name": "stdout",
     "output_type": "stream",
     "text": [
      "auc: 0.707110286198758\n"
     ]
    }
   ],
   "source": [
    "lg = LogisticRegression(max_iter=10000000000)\n",
    "lg.fit(x_train_s,y_train.values.ravel())\n",
    "\n",
    "fpr, tpr, thres = roc_curve(y_test, lg.predict_proba(x_test_s)[:,1])\n",
    "\n",
    "plt.plot(fpr, tpr)\n",
    "plt.show()\n",
    "\n",
    "score = roc_auc_score(y_test, lg.predict_proba(x_test_s)[:,1])\n",
    "print('auc:',score)"
   ]
  },
  {
   "cell_type": "markdown",
   "id": "b0742c42",
   "metadata": {},
   "source": [
    "对比未进行标准化前的auc，标准化处理后auc提升明显，因此，选择进行标准化，将标准化后的数据导出备用"
   ]
  },
  {
   "cell_type": "code",
   "execution_count": 20,
   "id": "0474844e",
   "metadata": {},
   "outputs": [],
   "source": [
    "x_train_s.to_csv('Data/x_train_s.csv',index=False,encoding='utf_8_sig')\n",
    "x_test_s.to_csv('Data/x_test_s.csv',index=False,encoding='utf_8_sig')\n",
    "y_train.to_csv('Data/y_train.csv',index=False,encoding='utf_8_sig')\n",
    "y_test.to_csv('Data/y_test.csv',index=False,encoding='utf_8_sig')\n",
    "pre_X_s.to_csv('Data/pre_X_s.csv',index=False,encoding='utf_8_sig')"
   ]
  },
  {
   "cell_type": "markdown",
   "id": "5a493d0e",
   "metadata": {},
   "source": [
    "# 绘制学习曲线"
   ]
  },
  {
   "cell_type": "code",
   "execution_count": 22,
   "id": "00ff7f97",
   "metadata": {},
   "outputs": [],
   "source": [
    "x_train_s = pd.read_csv('Data/x_train_s.csv')\n",
    "x_test_s = pd.read_csv('Data/x_test_s.csv')\n",
    "y_train = pd.read_csv('Data/y_train.csv')\n",
    "y_test = pd.read_csv('Data/y_test.csv')"
   ]
  },
  {
   "cell_type": "code",
   "execution_count": 23,
   "id": "5c18c56d",
   "metadata": {},
   "outputs": [],
   "source": [
    "\n",
    "def plot_learning_curve(estimator, title, X, y, ylim=None, cv=None,\n",
    "                        n_jobs=1, train_sizes=np.linspace(.1, 1.0, 5)):\n",
    "    plt.figure()\n",
    "    plt.title(title)\n",
    "    if ylim is not None:\n",
    "        plt.ylim(*ylim)\n",
    "    plt.xlabel(\"Training examples\")\n",
    "    plt.ylabel(\"Score\")\n",
    "    train_sizes, train_scores, test_scores = learning_curve(\n",
    "        estimator, X, y, cv=cv, n_jobs=n_jobs, train_sizes=train_sizes,scoring='roc_auc')\n",
    "    train_scores_mean = np.mean(train_scores, axis=1)\n",
    "    train_scores_std = np.std(train_scores, axis=1)\n",
    "    test_scores_mean = np.mean(test_scores, axis=1)\n",
    "    test_scores_std = np.std(test_scores, axis=1)\n",
    "    plt.grid()\n",
    " \n",
    "    plt.fill_between(train_sizes, train_scores_mean - train_scores_std,\n",
    "                     train_scores_mean + train_scores_std, alpha=0.1,\n",
    "                     color=\"r\")\n",
    "    plt.fill_between(train_sizes, test_scores_mean - test_scores_std,\n",
    "                     test_scores_mean + test_scores_std, alpha=0.1, color=\"g\")\n",
    "    plt.plot(train_sizes, train_scores_mean, 'o-', color=\"r\",\n",
    "             label=\"Training score\")\n",
    "    plt.plot(train_sizes, test_scores_mean, 'o-', color=\"g\",\n",
    "             label=\"Cross-validation score\")\n",
    " \n",
    "    plt.legend(loc=\"best\")\n",
    "    return plt"
   ]
  },
  {
   "cell_type": "code",
   "execution_count": 31,
   "id": "2da946a7",
   "metadata": {},
   "outputs": [],
   "source": [
    "lg = LogisticRegression(max_iter=10000000000)"
   ]
  },
  {
   "cell_type": "code",
   "execution_count": 34,
   "id": "926e1ee6",
   "metadata": {
    "scrolled": true
   },
   "outputs": [
    {
     "data": {
      "text/plain": [
       "<module 'matplotlib.pyplot' from 'D:\\\\python37\\\\Lib\\\\site-packages\\\\matplotlib\\\\pyplot.py'>"
      ]
     },
     "execution_count": 34,
     "metadata": {},
     "output_type": "execute_result"
    },
    {
     "data": {
      "image/png": "[encoded data removed]",
      "text/plain": [
       "<Figure size 432x288 with 1 Axes>"
      ]
     },
     "metadata": {
      "needs_background": "light"
     },
     "output_type": "display_data"
    }
   ],
   "source": [
    "cv = ShuffleSplit(n_splits=100, test_size=0.2, random_state=0)\n",
    "plot_learning_curve(lg, 'curve', x_train_s, y_train.values.ravel(), cv=cv, n_jobs=1)"
   ]
  },
  {
   "cell_type": "code",
   "execution_count": 25,
   "id": "4e6e783c",
   "metadata": {},
   "outputs": [
    {
     "data": {
      "text/plain": [
       "dict_keys(['explained_variance', 'r2', 'max_error', 'neg_median_absolute_error', 'neg_mean_absolute_error', 'neg_mean_absolute_percentage_error', 'neg_mean_squared_error', 'neg_mean_squared_log_error', 'neg_root_mean_squared_error', 'neg_mean_poisson_deviance', 'neg_mean_gamma_deviance', 'accuracy', 'top_k_accuracy', 'roc_auc', 'roc_auc_ovr', 'roc_auc_ovo', 'roc_auc_ovr_weighted', 'roc_auc_ovo_weighted', 'balanced_accuracy', 'average_precision', 'neg_log_loss', 'neg_brier_score', 'adjusted_rand_score', 'rand_score', 'homogeneity_score', 'completeness_score', 'v_measure_score', 'mutual_info_score', 'adjusted_mutual_info_score', 'normalized_mutual_info_score', 'fowlkes_mallows_score', 'precision', 'precision_macro', 'precision_micro', 'precision_samples', 'precision_weighted', 'recall', 'recall_macro', 'recall_micro', 'recall_samples', 'recall_weighted', 'f1', 'f1_macro', 'f1_micro', 'f1_samples', 'f1_weighted', 'jaccard', 'jaccard_macro', 'jaccard_micro', 'jaccard_samples', 'jaccard_weighted'])"
      ]
     },
     "execution_count": 25,
     "metadata": {},
     "output_type": "execute_result"
    }
   ],
   "source": [
    "import sklearn\n",
    "sklearn.metrics.SCORERS.keys()"
   ]
  },
  {
   "cell_type": "markdown",
   "id": "ee6225f5",
   "metadata": {},
   "source": [
    "通过学习曲线，当前模型存在高方差问题，存在一定的过拟合问题，解决思路\n",
    "- 增加样本（尝试过采样）\n",
    "- 减少特征（特征选择）\n",
    "- 提高正则化参数"
   ]
  },
  {
   "cell_type": "markdown",
   "id": "b2f7d3d2",
   "metadata": {},
   "source": [
    "## 增加样本（过采样）"
   ]
  },
  {
   "cell_type": "code",
   "execution_count": 24,
   "id": "0d1b578f",
   "metadata": {},
   "outputs": [],
   "source": [
    "x_train_s = pd.read_csv('Data/x_train_s.csv')\n",
    "x_test_s = pd.read_csv('Data/x_test_s.csv')\n",
    "y_train = pd.read_csv('Data/y_train.csv')\n",
    "y_test = pd.read_csv('Data/y_test.csv')"
   ]
  },
  {
   "cell_type": "code",
   "execution_count": 25,
   "id": "496cf9cc",
   "metadata": {},
   "outputs": [],
   "source": [
    "smo=SMOTE(random_state=0)\n",
    "x_train_smo,y_train_smo=smo.fit_resample(x_train_s,y_train)"
   ]
  },
  {
   "cell_type": "code",
   "execution_count": 26,
   "id": "0f2296d9",
   "metadata": {},
   "outputs": [
    {
     "data": {
      "text/plain": [
       "是否在当年造假\n",
       "0.0        13404\n",
       "1.0        13404\n",
       "dtype: int64"
      ]
     },
     "execution_count": 26,
     "metadata": {},
     "output_type": "execute_result"
    }
   ],
   "source": [
    "y_train_smo.value_counts()"
   ]
  },
  {
   "cell_type": "code",
   "execution_count": 27,
   "id": "9b0e7d38",
   "metadata": {},
   "outputs": [
    {
     "data": {
      "image/png": "[encoded data removed]",
      "text/plain": [
       "<Figure size 432x288 with 1 Axes>"
      ]
     },
     "metadata": {
      "needs_background": "light"
     },
     "output_type": "display_data"
    },
    {
     "name": "stdout",
     "output_type": "stream",
     "text": [
      "auc: 0.7395110102884901\n"
     ]
    }
   ],
   "source": [
    "lg = LogisticRegression(max_iter=10000000000)\n",
    "lg.fit(x_train_smo,y_train_smo.values.ravel())\n",
    "\n",
    "fpr, tpr, thres = roc_curve(y_test, lg.predict_proba(x_test_s)[:,1])\n",
    "\n",
    "plt.plot(fpr, tpr)\n",
    "plt.show()\n",
    "\n",
    "score = roc_auc_score(y_test, lg.predict_proba(x_test_s)[:,1])\n",
    "print('auc:',score)"
   ]
  },
  {
   "cell_type": "markdown",
   "id": "3b8f2ccb",
   "metadata": {},
   "source": [
    "采取过采用后，auc提升，后续继续采取过采样"
   ]
  },
  {
   "cell_type": "code",
   "execution_count": 40,
   "id": "5d9f8335",
   "metadata": {},
   "outputs": [
    {
     "data": {
      "text/plain": [
       "<module 'matplotlib.pyplot' from 'D:\\\\python37\\\\Lib\\\\site-packages\\\\matplotlib\\\\pyplot.py'>"
      ]
     },
     "execution_count": 40,
     "metadata": {},
     "output_type": "execute_result"
    },
    {
     "data": {
      "image/png": "[encoded data removed]",
      "text/plain": [
       "<Figure size 432x288 with 1 Axes>"
      ]
     },
     "metadata": {
      "needs_background": "light"
     },
     "output_type": "display_data"
    }
   ],
   "source": [
    "cv = ShuffleSplit(n_splits=100, test_size=0.2, random_state=0)\n",
    "plot_learning_curve(lg, 'curve', x_train_smo, y_train_smo.values.ravel(), cv=cv, n_jobs=1)"
   ]
  },
  {
   "cell_type": "markdown",
   "id": "934ba472",
   "metadata": {},
   "source": [
    "## 使用模型选择特征"
   ]
  },
  {
   "cell_type": "code",
   "execution_count": 29,
   "id": "311e21b3",
   "metadata": {},
   "outputs": [],
   "source": [
    "x_train_s = pd.read_csv('Data/x_train_s.csv')\n",
    "x_test_s = pd.read_csv('Data/x_test_s.csv')\n",
    "y_train = pd.read_csv('Data/y_train.csv')\n",
    "y_test = pd.read_csv('Data/y_test.csv')\n",
    "\n",
    "smo=SMOTE(random_state=0)\n",
    "x_train_smo,y_train_smo=smo.fit_resample(x_train_s,y_train)"
   ]
  },
  {
   "cell_type": "code",
   "execution_count": 30,
   "id": "e6f4f7c3",
   "metadata": {},
   "outputs": [],
   "source": [
    "x_train_smo.drop(columns=['股票代码'],inplace=True)\n",
    "x_test_s.drop(columns=['股票代码'],inplace=True)"
   ]
  },
  {
   "cell_type": "markdown",
   "id": "2ad8deed",
   "metadata": {},
   "source": [
    "使用随机森林选取"
   ]
  },
  {
   "cell_type": "code",
   "execution_count": 35,
   "id": "8e2c34af",
   "metadata": {},
   "outputs": [],
   "source": [
    "\n",
    "# 使用默认参数\n",
    "rf = RandomForestClassifier(random_state=0)\n",
    "rf.fit(x_train_smo,y_train_smo.values.ravel())\n",
    "rf_imp = pd.DataFrame({'feature_name':x_train_smo.columns,'feature_importances':rf.feature_importances_})"
   ]
  },
  {
   "cell_type": "code",
   "execution_count": 36,
   "id": "8ab6b8f5",
   "metadata": {
    "scrolled": true
   },
   "outputs": [
    {
     "data": {
      "text/html": [
       "<div>\n",
       "<style scoped>\n",
       "    .dataframe tbody tr th:only-of-type {\n",
       "        vertical-align: middle;\n",
       "    }\n",
       "\n",
       "    .dataframe tbody tr th {\n",
       "        vertical-align: top;\n",
       "    }\n",
       "\n",
       "    .dataframe thead th {\n",
       "        text-align: right;\n",
       "    }\n",
       "</style>\n",
       "<table border=\"1\" class=\"dataframe\">\n",
       "  <thead>\n",
       "    <tr style=\"text-align: right;\">\n",
       "      <th></th>\n",
       "      <th>feature_name</th>\n",
       "      <th>feature_importances</th>\n",
       "    </tr>\n",
       "  </thead>\n",
       "  <tbody>\n",
       "    <tr>\n",
       "      <th>76</th>\n",
       "      <td>稀释每股收益</td>\n",
       "      <td>0.052406</td>\n",
       "    </tr>\n",
       "    <tr>\n",
       "      <th>81</th>\n",
       "      <td>基本每股收益</td>\n",
       "      <td>0.037359</td>\n",
       "    </tr>\n",
       "    <tr>\n",
       "      <th>94</th>\n",
       "      <td>营业外支出</td>\n",
       "      <td>0.034742</td>\n",
       "    </tr>\n",
       "    <tr>\n",
       "      <th>29</th>\n",
       "      <td>其他应付款</td>\n",
       "      <td>0.030781</td>\n",
       "    </tr>\n",
       "    <tr>\n",
       "      <th>38</th>\n",
       "      <td>未分配利润</td>\n",
       "      <td>0.027135</td>\n",
       "    </tr>\n",
       "    <tr>\n",
       "      <th>19</th>\n",
       "      <td>其他非流动资产</td>\n",
       "      <td>0.026221</td>\n",
       "    </tr>\n",
       "    <tr>\n",
       "      <th>22</th>\n",
       "      <td>短期借款</td>\n",
       "      <td>0.023533</td>\n",
       "    </tr>\n",
       "    <tr>\n",
       "      <th>35</th>\n",
       "      <td>实收资本(或股本)</td>\n",
       "      <td>0.022092</td>\n",
       "    </tr>\n",
       "    <tr>\n",
       "      <th>3</th>\n",
       "      <td>截止日期</td>\n",
       "      <td>0.021711</td>\n",
       "    </tr>\n",
       "    <tr>\n",
       "      <th>44</th>\n",
       "      <td>支付其他与筹资活动有关的现金</td>\n",
       "      <td>0.021136</td>\n",
       "    </tr>\n",
       "    <tr>\n",
       "      <th>80</th>\n",
       "      <td>利润总额(亏损总额以“－”号填列)</td>\n",
       "      <td>0.019939</td>\n",
       "    </tr>\n",
       "    <tr>\n",
       "      <th>32</th>\n",
       "      <td>递延所得税负债</td>\n",
       "      <td>0.017655</td>\n",
       "    </tr>\n",
       "    <tr>\n",
       "      <th>83</th>\n",
       "      <td>资产减值损失</td>\n",
       "      <td>0.016725</td>\n",
       "    </tr>\n",
       "    <tr>\n",
       "      <th>8</th>\n",
       "      <td>其他应收款</td>\n",
       "      <td>0.016215</td>\n",
       "    </tr>\n",
       "    <tr>\n",
       "      <th>17</th>\n",
       "      <td>长期待摊费用</td>\n",
       "      <td>0.014029</td>\n",
       "    </tr>\n",
       "    <tr>\n",
       "      <th>12</th>\n",
       "      <td>可供出售金融资产</td>\n",
       "      <td>0.013710</td>\n",
       "    </tr>\n",
       "    <tr>\n",
       "      <th>58</th>\n",
       "      <td>现金及现金等价物净增加额</td>\n",
       "      <td>0.013107</td>\n",
       "    </tr>\n",
       "    <tr>\n",
       "      <th>96</th>\n",
       "      <td>归属于少数股东的综合收益总额</td>\n",
       "      <td>0.012631</td>\n",
       "    </tr>\n",
       "    <tr>\n",
       "      <th>40</th>\n",
       "      <td>少数股东权益</td>\n",
       "      <td>0.012422</td>\n",
       "    </tr>\n",
       "    <tr>\n",
       "      <th>92</th>\n",
       "      <td>净利润(净亏损以“－”号填列)</td>\n",
       "      <td>0.012233</td>\n",
       "    </tr>\n",
       "    <tr>\n",
       "      <th>49</th>\n",
       "      <td>投资支付的现金</td>\n",
       "      <td>0.011995</td>\n",
       "    </tr>\n",
       "    <tr>\n",
       "      <th>10</th>\n",
       "      <td>其他流动资产</td>\n",
       "      <td>0.011994</td>\n",
       "    </tr>\n",
       "    <tr>\n",
       "      <th>71</th>\n",
       "      <td>购建固定资产、无形资产和其他长期资产支付的现金</td>\n",
       "      <td>0.011743</td>\n",
       "    </tr>\n",
       "    <tr>\n",
       "      <th>87</th>\n",
       "      <td>归属于母公司所有者(或股东)的净利润</td>\n",
       "      <td>0.011504</td>\n",
       "    </tr>\n",
       "    <tr>\n",
       "      <th>43</th>\n",
       "      <td>其他综合收益</td>\n",
       "      <td>0.011324</td>\n",
       "    </tr>\n",
       "    <tr>\n",
       "      <th>36</th>\n",
       "      <td>资本公积</td>\n",
       "      <td>0.011051</td>\n",
       "    </tr>\n",
       "    <tr>\n",
       "      <th>50</th>\n",
       "      <td>投资活动现金流入小计</td>\n",
       "      <td>0.011031</td>\n",
       "    </tr>\n",
       "    <tr>\n",
       "      <th>82</th>\n",
       "      <td>营业利润(亏损以“－”号填列)</td>\n",
       "      <td>0.010985</td>\n",
       "    </tr>\n",
       "    <tr>\n",
       "      <th>53</th>\n",
       "      <td>收回投资收到的现金</td>\n",
       "      <td>0.010613</td>\n",
       "    </tr>\n",
       "    <tr>\n",
       "      <th>64</th>\n",
       "      <td>收到其他与经营活动有关的现金</td>\n",
       "      <td>0.010370</td>\n",
       "    </tr>\n",
       "    <tr>\n",
       "      <th>28</th>\n",
       "      <td>应付利息</td>\n",
       "      <td>0.009984</td>\n",
       "    </tr>\n",
       "    <tr>\n",
       "      <th>85</th>\n",
       "      <td>其他综合收益.1</td>\n",
       "      <td>0.009860</td>\n",
       "    </tr>\n",
       "    <tr>\n",
       "      <th>45</th>\n",
       "      <td>投资活动产生的现金流量净额</td>\n",
       "      <td>0.009704</td>\n",
       "    </tr>\n",
       "    <tr>\n",
       "      <th>99</th>\n",
       "      <td>少数股东损益</td>\n",
       "      <td>0.009399</td>\n",
       "    </tr>\n",
       "    <tr>\n",
       "      <th>57</th>\n",
       "      <td>取得投资收益收到的现金</td>\n",
       "      <td>0.009383</td>\n",
       "    </tr>\n",
       "    <tr>\n",
       "      <th>31</th>\n",
       "      <td>递延收益</td>\n",
       "      <td>0.009350</td>\n",
       "    </tr>\n",
       "    <tr>\n",
       "      <th>33</th>\n",
       "      <td>非流动负债合计</td>\n",
       "      <td>0.009176</td>\n",
       "    </tr>\n",
       "    <tr>\n",
       "      <th>97</th>\n",
       "      <td>所得税费用</td>\n",
       "      <td>0.009036</td>\n",
       "    </tr>\n",
       "    <tr>\n",
       "      <th>1</th>\n",
       "      <td>发布时间</td>\n",
       "      <td>0.008915</td>\n",
       "    </tr>\n",
       "    <tr>\n",
       "      <th>59</th>\n",
       "      <td>汇率变动对现金及现金等价物的影响</td>\n",
       "      <td>0.008503</td>\n",
       "    </tr>\n",
       "    <tr>\n",
       "      <th>67</th>\n",
       "      <td>处置固定资产、无形资产和其他长期资产收回的现金净额</td>\n",
       "      <td>0.008480</td>\n",
       "    </tr>\n",
       "    <tr>\n",
       "      <th>84</th>\n",
       "      <td>归属于母公司所有者(或股东)的综合收益总额</td>\n",
       "      <td>0.008336</td>\n",
       "    </tr>\n",
       "    <tr>\n",
       "      <th>65</th>\n",
       "      <td>投资活动现金流出小计</td>\n",
       "      <td>0.008284</td>\n",
       "    </tr>\n",
       "    <tr>\n",
       "      <th>0</th>\n",
       "      <td>实际披露时间</td>\n",
       "      <td>0.008184</td>\n",
       "    </tr>\n",
       "    <tr>\n",
       "      <th>89</th>\n",
       "      <td>财务费用</td>\n",
       "      <td>0.008117</td>\n",
       "    </tr>\n",
       "    <tr>\n",
       "      <th>75</th>\n",
       "      <td>管理费用</td>\n",
       "      <td>0.008105</td>\n",
       "    </tr>\n",
       "    <tr>\n",
       "      <th>39</th>\n",
       "      <td>归属于母公司所有者权益合计</td>\n",
       "      <td>0.008030</td>\n",
       "    </tr>\n",
       "    <tr>\n",
       "      <th>62</th>\n",
       "      <td>收到其他与投资活动有关的现金</td>\n",
       "      <td>0.008019</td>\n",
       "    </tr>\n",
       "    <tr>\n",
       "      <th>90</th>\n",
       "      <td>销售费用</td>\n",
       "      <td>0.007841</td>\n",
       "    </tr>\n",
       "    <tr>\n",
       "      <th>23</th>\n",
       "      <td>应付票据</td>\n",
       "      <td>0.007679</td>\n",
       "    </tr>\n",
       "  </tbody>\n",
       "</table>\n",
       "</div>"
      ],
      "text/plain": [
       "                 feature_name  feature_importances\n",
       "76                     稀释每股收益             0.052406\n",
       "81                     基本每股收益             0.037359\n",
       "94                      营业外支出             0.034742\n",
       "29                      其他应付款             0.030781\n",
       "38                      未分配利润             0.027135\n",
       "19                    其他非流动资产             0.026221\n",
       "22                       短期借款             0.023533\n",
       "35                  实收资本(或股本)             0.022092\n",
       "3                        截止日期             0.021711\n",
       "44             支付其他与筹资活动有关的现金             0.021136\n",
       "80          利润总额(亏损总额以“－”号填列)             0.019939\n",
       "32                    递延所得税负债             0.017655\n",
       "83                     资产减值损失             0.016725\n",
       "8                       其他应收款             0.016215\n",
       "17                     长期待摊费用             0.014029\n",
       "12                   可供出售金融资产             0.013710\n",
       "58               现金及现金等价物净增加额             0.013107\n",
       "96             归属于少数股东的综合收益总额             0.012631\n",
       "40                     少数股东权益             0.012422\n",
       "92            净利润(净亏损以“－”号填列)             0.012233\n",
       "49                    投资支付的现金             0.011995\n",
       "10                     其他流动资产             0.011994\n",
       "71    购建固定资产、无形资产和其他长期资产支付的现金             0.011743\n",
       "87         归属于母公司所有者(或股东)的净利润             0.011504\n",
       "43                     其他综合收益             0.011324\n",
       "36                       资本公积             0.011051\n",
       "50                 投资活动现金流入小计             0.011031\n",
       "82            营业利润(亏损以“－”号填列)             0.010985\n",
       "53                  收回投资收到的现金             0.010613\n",
       "64             收到其他与经营活动有关的现金             0.010370\n",
       "28                       应付利息             0.009984\n",
       "85                   其他综合收益.1             0.009860\n",
       "45              投资活动产生的现金流量净额             0.009704\n",
       "99                     少数股东损益             0.009399\n",
       "57                取得投资收益收到的现金             0.009383\n",
       "31                       递延收益             0.009350\n",
       "33                    非流动负债合计             0.009176\n",
       "97                      所得税费用             0.009036\n",
       "1                        发布时间             0.008915\n",
       "59           汇率变动对现金及现金等价物的影响             0.008503\n",
       "67  处置固定资产、无形资产和其他长期资产收回的现金净额             0.008480\n",
       "84      归属于母公司所有者(或股东)的综合收益总额             0.008336\n",
       "65                 投资活动现金流出小计             0.008284\n",
       "0                      实际披露时间             0.008184\n",
       "89                       财务费用             0.008117\n",
       "75                       管理费用             0.008105\n",
       "39              归属于母公司所有者权益合计             0.008030\n",
       "62             收到其他与投资活动有关的现金             0.008019\n",
       "90                       销售费用             0.007841\n",
       "23                       应付票据             0.007679"
      ]
     },
     "execution_count": 36,
     "metadata": {},
     "output_type": "execute_result"
    }
   ],
   "source": [
    "rf_imp = rf_imp.sort_values(by='feature_importances',ascending=False)\n",
    "rf_imp.head(50)"
   ]
  },
  {
   "cell_type": "code",
   "execution_count": 48,
   "id": "07dcfd05",
   "metadata": {
    "scrolled": false
   },
   "outputs": [
    {
     "name": "stdout",
     "output_type": "stream",
     "text": [
      "auc: 0.7091267386173552\n",
      "auc: 0.7087371966728535\n",
      "auc: 0.7084335830984624\n",
      "auc: 0.7304197887307807\n",
      "auc: 0.7309926445315185\n",
      "auc: 0.7320696134369056\n",
      "auc: 0.7323159414312228\n",
      "auc: 0.7287928782566853\n",
      "auc: 0.7286897642125524\n",
      "auc: 0.7283116793840654\n",
      "auc: 0.729669347631814\n",
      "auc: 0.7297781902339543\n",
      "auc: 0.7293600054994156\n",
      "auc: 0.7292798056873124\n",
      "auc: 0.7294459338695263\n",
      "auc: 0.7287241355605967\n",
      "auc: 0.7317774569785293\n",
      "auc: 0.7335647670768314\n",
      "auc: 0.7352604202470154\n",
      "auc: 0.7155828234916707\n",
      "auc: 0.7166139639329988\n",
      "auc: 0.7181091175729245\n",
      "auc: 0.7182408744070943\n",
      "auc: 0.7180575605508582\n",
      "auc: 0.7179716321807474\n",
      "auc: 0.7248516303476089\n",
      "auc: 0.7261290987832543\n",
      "auc: 0.7265701977498225\n",
      "auc: 0.7262207557113723\n",
      "auc: 0.7297724616759469\n",
      "auc: 0.729136591737128\n",
      "auc: 0.7298469329300428\n",
      "auc: 0.7522226805068628\n",
      "auc: 0.7522284090648702\n",
      "auc: 0.7455317247542448\n",
      "auc: 0.7457895098645768\n",
      "auc: 0.7456291102403703\n",
      "auc: 0.7439678284182306\n",
      "auc: 0.7385256983112212\n",
      "auc: 0.7467404504938018\n",
      "auc: 0.746866478769964\n",
      "auc: 0.747032606952178\n",
      "auc: 0.7469237643500378\n",
      "auc: 0.747032606952178\n",
      "auc: 0.7475710914048715\n",
      "auc: 0.7485907747301849\n",
      "auc: 0.7493240301551294\n",
      "auc: 0.7487339886803693\n",
      "auc: 0.7487168030063471\n",
      "auc: 0.7488886597465686\n"
     ]
    },
    {
     "data": {
      "text/plain": [
       "[<matplotlib.lines.Line2D at 0x22620976a88>]"
      ]
     },
     "execution_count": 48,
     "metadata": {},
     "output_type": "execute_result"
    },
    {
     "data": {
      "image/png": "[encoded data removed]",
      "text/plain": [
       "<Figure size 432x288 with 1 Axes>"
      ]
     },
     "metadata": {
      "needs_background": "light"
     },
     "output_type": "display_data"
    }
   ],
   "source": [
    "def return_auc(model,x_train,y_train,x_test,y_test):\n",
    "    model.fit(x_train,y_train.values.ravel())\n",
    "    fpr, tpr, thres = roc_curve(y_test, model.predict_proba(x_test)[:,1])\n",
    "    score = roc_auc_score(y_test, model.predict_proba(x_test)[:,1])\n",
    "    print('auc:',score)\n",
    "    return score\n",
    "\n",
    "\n",
    "all_i =[]\n",
    "auc_score = []\n",
    "\n",
    "# 选取前不同特征数量时候auc的变化\n",
    "lg = LogisticRegression(max_iter=10000000000,random_state=0)\n",
    "for i in range(20,70):\n",
    "    all_i.append(i)\n",
    "    rf_slf = list(rf_imp[:i].feature_name)\n",
    "    auc_score.append(return_auc(lg,x_train_smo[rf_slf],y_train_smo,x_test_s[rf_slf],y_test))\n",
    "\n",
    "i_auc = pd.DataFrame({'select_feature_num':all_i,'auc':auc_score}).sort_values(by='auc',ascending=False)\n",
    "plt.plot(all_i,auc_score)\n",
    "    "
   ]
  },
  {
   "cell_type": "code",
   "execution_count": 49,
   "id": "beac395d",
   "metadata": {
    "scrolled": true
   },
   "outputs": [
    {
     "data": {
      "text/html": [
       "<div>\n",
       "<style scoped>\n",
       "    .dataframe tbody tr th:only-of-type {\n",
       "        vertical-align: middle;\n",
       "    }\n",
       "\n",
       "    .dataframe tbody tr th {\n",
       "        vertical-align: top;\n",
       "    }\n",
       "\n",
       "    .dataframe thead th {\n",
       "        text-align: right;\n",
       "    }\n",
       "</style>\n",
       "<table border=\"1\" class=\"dataframe\">\n",
       "  <thead>\n",
       "    <tr style=\"text-align: right;\">\n",
       "      <th></th>\n",
       "      <th>select_feature_num</th>\n",
       "      <th>auc</th>\n",
       "    </tr>\n",
       "  </thead>\n",
       "  <tbody>\n",
       "    <tr>\n",
       "      <th>33</th>\n",
       "      <td>53</td>\n",
       "      <td>0.752228</td>\n",
       "    </tr>\n",
       "  </tbody>\n",
       "</table>\n",
       "</div>"
      ],
      "text/plain": [
       "    select_feature_num       auc\n",
       "33                  53  0.752228"
      ]
     },
     "execution_count": 49,
     "metadata": {},
     "output_type": "execute_result"
    }
   ],
   "source": [
    "i_auc.sort_values(by='auc',ascending=False).head(1)"
   ]
  },
  {
   "cell_type": "markdown",
   "id": "afdcc407",
   "metadata": {},
   "source": [
    "发现在选择53个特征的时候auc最高"
   ]
  },
  {
   "cell_type": "code",
   "execution_count": 50,
   "id": "6c023432",
   "metadata": {},
   "outputs": [],
   "source": [
    "rf_slf = list(rf_imp[:53].feature_name)"
   ]
  },
  {
   "cell_type": "code",
   "execution_count": 51,
   "id": "71264935",
   "metadata": {
    "scrolled": true
   },
   "outputs": [
    {
     "data": {
      "image/png": "[encoded data removed]",
      "text/plain": [
       "<Figure size 432x288 with 1 Axes>"
      ]
     },
     "metadata": {
      "needs_background": "light"
     },
     "output_type": "display_data"
    },
    {
     "name": "stdout",
     "output_type": "stream",
     "text": [
      "auc: 0.7522284090648702\n"
     ]
    }
   ],
   "source": [
    "lg = LogisticRegression(max_iter=10000000000,random_state=0)\n",
    "lg.fit(x_train_smo[rf_slf],y_train_smo.values.ravel())\n",
    "\n",
    "fpr, tpr, thres = roc_curve(y_test, lg.predict_proba(x_test_s[rf_slf])[:,1])\n",
    "\n",
    "plt.plot(fpr, tpr)\n",
    "plt.show()\n",
    "\n",
    "score = roc_auc_score(y_test, lg.predict_proba(x_test_s[rf_slf])[:,1])\n",
    "print('auc:',score)"
   ]
  },
  {
   "cell_type": "markdown",
   "id": "b64d495d",
   "metadata": {},
   "source": [
    "逻辑回归模型调参"
   ]
  },
  {
   "cell_type": "code",
   "execution_count": 61,
   "id": "f5cf7338",
   "metadata": {},
   "outputs": [],
   "source": [
    "lg = LogisticRegression(max_iter=10000000,random_state=0)\n",
    "\n",
    "cv = ShuffleSplit(n_splits=10, test_size=0.2, random_state=0)\n",
    "param = {'C':[0.001,0.01,0.03,0.08,1,10,100]}\n",
    "\n",
    "gs = GridSearchCV(lg,param_grid=param,scoring='roc_auc',cv=cv)\n",
    "\n",
    "gs_result = gs.fit(x_train_smo[rf_slf],y_train_smo.values.ravel())"
   ]
  },
  {
   "cell_type": "code",
   "execution_count": 62,
   "id": "85baf6e3",
   "metadata": {
    "scrolled": true
   },
   "outputs": [
    {
     "data": {
      "text/plain": [
       "{'mean_fit_time': array([0.07589831, 0.16300182, 0.23144057, 0.35302391, 0.84821243,\n",
       "        2.05821583, 4.57874596]),\n",
       " 'std_fit_time': array([0.00601464, 0.01725076, 0.02825437, 0.03985696, 0.08450033,\n",
       "        0.12243436, 0.89716999]),\n",
       " 'mean_score_time': array([0.00528853, 0.005583  , 0.00508313, 0.00593362, 0.00498345,\n",
       "        0.0050343 , 0.00578179]),\n",
       " 'std_score_time': array([0.00045301, 0.00111119, 0.00053765, 0.00138523, 0.0006306 ,\n",
       "        0.00064744, 0.00116355]),\n",
       " 'param_C': masked_array(data=[0.001, 0.01, 0.03, 0.08, 1, 10, 100],\n",
       "              mask=[False, False, False, False, False, False, False],\n",
       "        fill_value='?',\n",
       "             dtype=object),\n",
       " 'params': [{'C': 0.001},\n",
       "  {'C': 0.01},\n",
       "  {'C': 0.03},\n",
       "  {'C': 0.08},\n",
       "  {'C': 1},\n",
       "  {'C': 10},\n",
       "  {'C': 100}],\n",
       " 'split0_test_score': array([0.78748566, 0.81625957, 0.82104819, 0.82339071, 0.82903609,\n",
       "        0.83144446, 0.83159872]),\n",
       " 'split1_test_score': array([0.78805744, 0.81584194, 0.8211716 , 0.82435688, 0.83201821,\n",
       "        0.83389336, 0.83411083]),\n",
       " 'split2_test_score': array([0.78905578, 0.81329797, 0.81793191, 0.82092844, 0.82510582,\n",
       "        0.82820574, 0.82975869]),\n",
       " 'split3_test_score': array([0.78921265, 0.81310258, 0.81662814, 0.81984932, 0.82561484,\n",
       "        0.82998397, 0.8317684 ]),\n",
       " 'split4_test_score': array([0.77932835, 0.80642493, 0.81112451, 0.81485201, 0.82260669,\n",
       "        0.82596035, 0.82729667]),\n",
       " 'split5_test_score': array([0.78118462, 0.80412687, 0.8074082 , 0.80970452, 0.81405615,\n",
       "        0.81783929, 0.81790567]),\n",
       " 'split6_test_score': array([0.77866765, 0.80618362, 0.81108462, 0.81356303, 0.81943688,\n",
       "        0.82228559, 0.82242224]),\n",
       " 'split7_test_score': array([0.78061002, 0.80736455, 0.812644  , 0.81627549, 0.82222344,\n",
       "        0.82479548, 0.82559505]),\n",
       " 'split8_test_score': array([0.79418451, 0.81798808, 0.82240203, 0.82569309, 0.83229384,\n",
       "        0.83601188, 0.83749943]),\n",
       " 'split9_test_score': array([0.77311804, 0.80078511, 0.80655348, 0.81028932, 0.81870076,\n",
       "        0.82047506, 0.82140258]),\n",
       " 'mean_test_score': array([0.78409047, 0.81013752, 0.81479967, 0.81789028, 0.82410927,\n",
       "        0.82708952, 0.82793583]),\n",
       " 'std_test_score': array([0.00610804, 0.00557793, 0.00552435, 0.00548971, 0.00561279,\n",
       "        0.00559842, 0.00583606]),\n",
       " 'rank_test_score': array([7, 6, 5, 4, 3, 2, 1])}"
      ]
     },
     "execution_count": 62,
     "metadata": {},
     "output_type": "execute_result"
    }
   ],
   "source": [
    "gs_result.cv_results_"
   ]
  },
  {
   "cell_type": "markdown",
   "id": "1e220c38",
   "metadata": {},
   "source": [
    "根据结果可知，在惩罚系数C=100时，模型效果更好。  \n",
    "但是，在sklearn的逻辑回归模型中，C为正则化系数的倒数，C越大正则化越弱，即降低了正则化参数。  \n",
    "尝试C=100的模型"
   ]
  },
  {
   "cell_type": "code",
   "execution_count": 63,
   "id": "941b3247",
   "metadata": {},
   "outputs": [
    {
     "data": {
      "image/png": "[encoded data removed]",
      "text/plain": [
       "<Figure size 432x288 with 1 Axes>"
      ]
     },
     "metadata": {
      "needs_background": "light"
     },
     "output_type": "display_data"
    },
    {
     "name": "stdout",
     "output_type": "stream",
     "text": [
      "auc: 0.7553963016429504\n"
     ]
    }
   ],
   "source": [
    "lg = LogisticRegression(max_iter=10000000000,random_state=0,C=100)\n",
    "lg.fit(x_train_smo[rf_slf],y_train_smo.values.ravel())\n",
    "\n",
    "fpr, tpr, thres = roc_curve(y_test, lg.predict_proba(x_test_s[rf_slf])[:,1])\n",
    "\n",
    "plt.plot(fpr, tpr)\n",
    "plt.show()\n",
    "\n",
    "score = roc_auc_score(y_test, lg.predict_proba(x_test_s[rf_slf])[:,1])\n",
    "print('auc:',score)"
   ]
  },
  {
   "cell_type": "markdown",
   "id": "225972e3",
   "metadata": {},
   "source": [
    "调参后在测试集中的提升并不大，考虑更换模型尝试"
   ]
  },
  {
   "cell_type": "markdown",
   "id": "d301bb0a",
   "metadata": {},
   "source": [
    "## 更换学习模型-随机森林"
   ]
  },
  {
   "cell_type": "code",
   "execution_count": 64,
   "id": "0bfc3135",
   "metadata": {},
   "outputs": [
    {
     "data": {
      "image/png": "[encoded data removed]",
      "text/plain": [
       "<Figure size 432x288 with 1 Axes>"
      ]
     },
     "metadata": {
      "needs_background": "light"
     },
     "output_type": "display_data"
    },
    {
     "name": "stdout",
     "output_type": "stream",
     "text": [
      "auc: 0.8081362709378795\n"
     ]
    }
   ],
   "source": [
    "# 随机森林默认参数回归\n",
    "rf = RandomForestClassifier(random_state=0)\n",
    "rf.fit(x_train_smo[rf_slf],y_train_smo.values.ravel())\n",
    "\n",
    "fpr, tpr, thres = roc_curve(y_test, rf.predict_proba(x_test_s[rf_slf])[:,1])\n",
    "\n",
    "plt.plot(fpr, tpr)\n",
    "plt.show()\n",
    "\n",
    "score = roc_auc_score(y_test, rf.predict_proba(x_test_s[rf_slf])[:,1])\n",
    "print('auc:',score)"
   ]
  },
  {
   "cell_type": "markdown",
   "id": "60a796d8",
   "metadata": {},
   "source": [
    "在选取了相同特征的情况下，随机森林的表现好于逻辑回归，更换随机森林进行调参"
   ]
  },
  {
   "cell_type": "code",
   "execution_count": 65,
   "id": "25283f5a",
   "metadata": {},
   "outputs": [],
   "source": [
    "cv = ShuffleSplit(n_splits=5, test_size=0.2, random_state=0)\n",
    "\n",
    "param = {'n_estimators':[100,300,500,700]}\n",
    "\n",
    "gs = GridSearchCV(rf,param_grid=param,scoring='roc_auc',cv=cv)\n",
    "\n",
    "gs_result = gs.fit(x_train_smo[rf_slf],y_train_smo.values.ravel())"
   ]
  },
  {
   "cell_type": "code",
   "execution_count": 66,
   "id": "2162b825",
   "metadata": {},
   "outputs": [
    {
     "data": {
      "text/plain": [
       "{'mean_fit_time': array([ 18.18509212,  56.20736818, 103.6636539 , 110.35155973]),\n",
       " 'std_fit_time': array([0.33844487, 8.39218698, 8.92352599, 2.0819262 ]),\n",
       " 'mean_score_time': array([0.14624386, 0.41878777, 0.89141779, 0.82023878]),\n",
       " 'std_score_time': array([0.00941699, 0.07223616, 0.16849197, 0.04316924]),\n",
       " 'param_n_estimators': masked_array(data=[100, 300, 500, 700],\n",
       "              mask=[False, False, False, False],\n",
       "        fill_value='?',\n",
       "             dtype=object),\n",
       " 'params': [{'n_estimators': 100},\n",
       "  {'n_estimators': 300},\n",
       "  {'n_estimators': 500},\n",
       "  {'n_estimators': 700}],\n",
       " 'split0_test_score': array([0.99987115, 0.99988417, 0.99988403, 0.99988605]),\n",
       " 'split1_test_score': array([0.9999161 , 0.9999353 , 0.99993168, 0.99993509]),\n",
       " 'split2_test_score': array([0.99987107, 0.99989153, 0.99990447, 0.99989953]),\n",
       " 'split3_test_score': array([0.99993493, 0.99996166, 0.99996353, 0.99996006]),\n",
       " 'split4_test_score': array([0.99994957, 0.9999639 , 0.99997057, 0.99997162]),\n",
       " 'mean_test_score': array([0.99990857, 0.99992731, 0.99993086, 0.99993047]),\n",
       " 'std_test_score': array([3.23681549e-05, 3.38332757e-05, 3.32717219e-05, 3.32274688e-05]),\n",
       " 'rank_test_score': array([4, 3, 1, 2])}"
      ]
     },
     "execution_count": 66,
     "metadata": {},
     "output_type": "execute_result"
    }
   ],
   "source": [
    "gs_result.cv_results_"
   ]
  },
  {
   "cell_type": "code",
   "execution_count": 67,
   "id": "74b2670f",
   "metadata": {},
   "outputs": [
    {
     "data": {
      "image/png": "[encoded data removed]",
      "text/plain": [
       "<Figure size 432x288 with 1 Axes>"
      ]
     },
     "metadata": {
      "needs_background": "light"
     },
     "output_type": "display_data"
    },
    {
     "name": "stdout",
     "output_type": "stream",
     "text": [
      "auc: 0.8104076441878051\n"
     ]
    }
   ],
   "source": [
    "rf_gs = RandomForestClassifier(random_state=0,n_estimators = 500)\n",
    "rf_gs.fit(x_train_smo[rf_slf],y_train_smo.values.ravel())\n",
    "\n",
    "fpr, tpr, thres = roc_curve(y_test, rf_gs.predict_proba(x_test_s[rf_slf])[:,1])\n",
    "\n",
    "plt.plot(fpr, tpr)\n",
    "plt.show()\n",
    "\n",
    "score = roc_auc_score(y_test, rf_gs.predict_proba(x_test_s[rf_slf])[:,1])\n",
    "print('auc:',score)"
   ]
  },
  {
   "cell_type": "code",
   "execution_count": 68,
   "id": "f249269f",
   "metadata": {},
   "outputs": [],
   "source": [
    "cv = ShuffleSplit(n_splits=5, test_size=0.2, random_state=0)\n",
    "param = {'n_estimators':[500],'max_depth':range(5,21,5)}\n",
    "\n",
    "gs = GridSearchCV(rf,param_grid=param,scoring='roc_auc',cv=cv)\n",
    "gs_result1 = gs.fit(x_train_smo[rf_slf],y_train_smo.values.ravel())"
   ]
  },
  {
   "cell_type": "code",
   "execution_count": 69,
   "id": "545dc8b2",
   "metadata": {},
   "outputs": [
    {
     "data": {
      "text/plain": [
       "{'max_depth': 20, 'n_estimators': 500}"
      ]
     },
     "execution_count": 69,
     "metadata": {},
     "output_type": "execute_result"
    }
   ],
   "source": [
    "gs_result1.best_params_"
   ]
  },
  {
   "cell_type": "code",
   "execution_count": 70,
   "id": "3bfbb53b",
   "metadata": {
    "scrolled": true
   },
   "outputs": [
    {
     "data": {
      "image/png": "[encoded data removed]",
      "text/plain": [
       "<Figure size 432x288 with 1 Axes>"
      ]
     },
     "metadata": {
      "needs_background": "light"
     },
     "output_type": "display_data"
    },
    {
     "name": "stdout",
     "output_type": "stream",
     "text": [
      "auc: 0.8211372333356248\n"
     ]
    }
   ],
   "source": [
    "rf_gs1 = RandomForestClassifier(random_state=0,n_estimators = 500,max_depth=20)\n",
    "rf_gs1.fit(x_train_smo[rf_slf],y_train_smo.values.ravel())\n",
    "\n",
    "fpr, tpr, thres = roc_curve(y_test, rf_gs1.predict_proba(x_test_s[rf_slf])[:,1])\n",
    "\n",
    "plt.plot(fpr, tpr)\n",
    "plt.show()\n",
    "\n",
    "score = roc_auc_score(y_test, rf_gs1.predict_proba(x_test_s[rf_slf])[:,1])\n",
    "print('auc:',score)"
   ]
  },
  {
   "cell_type": "markdown",
   "id": "d416202a",
   "metadata": {},
   "source": [
    "至此，模型的构建到一段落，最终构建的随机森林模型auc为82.1%  \n",
    "\n",
    "下一步可以尝试的改进：\n",
    "- 区分行业，不同行业的财务报表特点不同，对于造假的因素可能也不一致\n",
    "- 尝试通过特征之间的相关性筛除一些特征，例如财务报表中关于利润的特征有些具有很强的相关性\n",
    "- 进一步做一下不同模型的对比\n",
    "- 尝试神经网络"
   ]
  },
  {
   "cell_type": "code",
   "execution_count": null,
   "id": "894bcb80",
   "metadata": {},
   "outputs": [],
   "source": []
  }
 ],
 "metadata": {
  "kernelspec": {
   "display_name": "Python 3",
   "language": "python",
   "name": "python3"
  },
  "language_info": {
   "codemirror_mode": {
    "name": "ipython",
    "version": 3
   },
   "file_extension": ".py",
   "mimetype": "text/x-python",
   "name": "python",
   "nbconvert_exporter": "python",
   "pygments_lexer": "ipython3",
   "version": "3.7.9"
  },
  "toc": {
   "base_numbering": 1,
   "nav_menu": {},
   "number_sections": true,
   "sideBar": true,
   "skip_h1_title": false,
   "title_cell": "Table of Contents",
   "title_sidebar": "Contents",
   "toc_cell": false,
   "toc_position": {
    "height": "calc(100% - 180px)",
    "left": "10px",
    "top": "150px",
    "width": "256px"
   },
   "toc_section_display": true,
   "toc_window_display": true
  }
 },
 "nbformat": 4,
 "nbformat_minor": 5
}
